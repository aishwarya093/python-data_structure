{
 "cells": [
  {
   "cell_type": "code",
   "execution_count": null,
   "id": "b0709593-ccfb-4924-9432-00067ef24c4d",
   "metadata": {},
   "outputs": [],
   "source": [
    "#!/usr/bin/env python\n",
    "# coding: utf-8\n",
    "\n",
    "# In[ ]:\n",
    "\n",
    "\n",
    "# Data structures assignment"
   ]
  },
  {
   "cell_type": "code",
   "execution_count": null,
   "id": "13bf96e0-7b1f-4068-8640-a765d3cc15f2",
   "metadata": {},
   "outputs": [
    {
     "name": "stdout",
     "output_type": "stream",
     "text": [
      "aishwarya\n"
     ]
    }
   ],
   "source": [
    "# In[28]:\n",
    "\n",
    "# 1.Discuss string slicing and provide examples?\n",
    "\n",
    "# String slicing in Python is a way to get specific parts of a string by using starting, end middle values.one of the example is\n",
    "# shown below\n",
    "\n",
    "string1= \"aishwarya singh\"\n",
    "string2=string1[0:9]\n",
    "print(string2)"
   ]
  },
  {
   "cell_type": "code",
   "execution_count": null,
   "id": "017ebd3d-3659-4058-b2d2-bc99cb6ed725",
   "metadata": {},
   "outputs": [
    {
     "data": {
      "text/plain": [
       "'  '"
      ]
     },
     "execution_count": 18,
     "metadata": {},
     "output_type": "execute_result"
    }
   ],
   "source": [
    "# In[ ]:\n",
    "\n",
    "\"\"\"  \"\"\"\n",
    "\n",
    "# 2.Explain the key features of lists in Python?\n",
    "\n",
    "# key features of lists in python are listed below:\n",
    "#     1. It is an ordered data structure\n",
    "#     2. It is mutuable object which means values in list can be modified as well.\n",
    "#     3. slicing, indexing concept is also there within the lists"
   ]
  },
  {
   "cell_type": "code",
   "execution_count": null,
   "id": "a1ed83b0-cd4e-41db-91d7-aa916da2e10f",
   "metadata": {},
   "outputs": [
    {
     "name": "stdout",
     "output_type": "stream",
     "text": [
      "3.14\n",
      "[10, 'apple', 3.14, True, False]\n",
      "[10, 'apple', 3.14, True]\n"
     ]
    }
   ],
   "source": [
    "# In[23]:\n",
    "\n",
    "# 3.Describe how to access, modify, and delete elements in a list with examples?\n",
    "\n",
    "# accessing the list\n",
    "my_list=[10,\"apple\",3.14,True,[1,2,3]]\n",
    "print(my_list[2])\n",
    "\n",
    "# modifying the list\n",
    "my_list[4]=False\n",
    "print(my_list)\n",
    "\n",
    "# delete elements\n",
    "del my_list[4]\n",
    "print(my_list)"
   ]
  },
  {
   "cell_type": "code",
   "execution_count": null,
   "id": "53a49c56-ea77-42ea-9e93-c26398e9f5f4",
   "metadata": {},
   "outputs": [],
   "source": [
    "# In[ ]:\n",
    "\n",
    "# 4.Compare and contrast tuples and lists with examples?\n",
    "\n",
    "# Tuples- Tuples are ordered but immutable collection of elements in python. We can do indexing, slicing but we cannot modify a \n",
    "# tuple which has a collection of elements within itself.\n",
    "\n",
    "# Lists - Lists are ordered but mutable collection of elements in python. We can do indexing, slicing as well as we can modify a \n",
    "# list which has a collection of elements within itself."
   ]
  },
  {
   "cell_type": "code",
   "execution_count": null,
   "id": "94442bbb-f3ed-4267-a638-a037e42e055c",
   "metadata": {},
   "outputs": [
    {
     "name": "stdout",
     "output_type": "stream",
     "text": [
      "{'mango', 'grapes', 'apple', 'banana'}\n"
     ]
    }
   ],
   "source": [
    "# In[26]:\n",
    "\n",
    "# 5.Describe the key features of sets and provide examples of their use?\n",
    "\n",
    "# Key features of sets are-\n",
    "# 1.It stores unique values within itself. No duplicate value exists in it. \n",
    "# 2.It is unordered in nature which means the elements present inside it are not in an order which basically results into that we \n",
    "# cannot access the eleemnts in sets by indexing. Since, there is no particular arranged order of the elements.\n",
    "# 3.We cannot even modify the elements once they are listed in sets. It is unchangeable.\n",
    "\n",
    "\n",
    "the_fruits={\"apple\",\"banana\",\"grapes\",\"mango\",\"mango\"}\n",
    "print(the_fruits)"
   ]
  },
  {
   "cell_type": "code",
   "execution_count": null,
   "id": "51c63e69-12b7-4483-a0af-b5725a28fc69",
   "metadata": {},
   "outputs": [],
   "source": [
    "# In[ ]:\n",
    "\n",
    "# 6.Discuss the use cases of tuples and sets in Python programming?\n",
    "\n",
    "# Use Case of Tuple- Since tuples are immutable, they are ideal for storing fixed data like coordinates, database query results, or configuration \n",
    "# values that should not change.\n",
    "\n",
    "# Use Case of Set- Sets automatically eliminate duplicate elements, making them ideal for deduplication tasks."
   ]
  },
  {
   "cell_type": "code",
   "execution_count": null,
   "id": "5c5196a7-a567-4c85-8e86-a925d62c0dd3",
   "metadata": {},
   "outputs": [
    {
     "name": "stdout",
     "output_type": "stream",
     "text": [
      "{'color': 'red', 'vehicle': 'mustang', 'model': 'latest', 'year': 2024, 'brand': 'ford'}\n",
      "{'color': 'red', 'vehicle': 'mustang', 'model': 'latest', 'year': 2020, 'brand': 'ford'}\n",
      "{'color': 'red', 'vehicle': 'mustang', 'year': 2020, 'brand': 'ford'}\n"
     ]
    }
   ],
   "source": [
    "# In[34]:\n",
    "\n",
    "# 7.Describe how to add, modify, and delete items in a dictionary with examples?\n",
    "\n",
    "# adding items in dictionary\n",
    "this_dict={\n",
    "    \"color\":\"red\",\n",
    "    \"vehicle\":\"mustang\",\n",
    "    \"model\":\"latest\",\n",
    "    \"year\":2024\n",
    "}\n",
    "\n",
    "this_dict[\"brand\"]=\"ford\"\n",
    "print(this_dict)\n",
    "\n",
    "\n",
    "# modify items in dictionary\n",
    "this_dict.update({\"year\":2020})\n",
    "print(this_dict)\n",
    "\n",
    "# delete items in dictionary\n",
    "this_dict.pop(\"model\")\n",
    "print(this_dict)"
   ]
  }
 ],
 "metadata": {
  "language_info": {
   "codemirror_mode": {
    "name": "ipython",
    "version": 3
   },
   "file_extension": ".py",
   "mimetype": "text/x-python",
   "name": "python",
   "nbconvert_exporter": "python",
   "pygments_lexer": "ipython3",
   "version": 3
  }
 },
 "nbformat": 4,
 "nbformat_minor": 2
}
